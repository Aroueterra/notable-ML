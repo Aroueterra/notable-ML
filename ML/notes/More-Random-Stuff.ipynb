{
 "cells": [
  {
   "cell_type": "code",
   "execution_count": null,
   "metadata": {},
   "outputs": [],
   "source": [
    "#Lists trainable variables\n",
    "import tensorflow as tf\n",
    "#path = './tmp/mdl_ckpt' \n",
    "path = \"C:/Users/aroue/Downloads/Documents/@ML/MODELS/tf-end-to-end/Big2\";\n",
    "get_checkpoint = tf.train.latest_checkpoint(path) \n",
    "#this retrieves the latest checkpoin file form path, but it also can be set manually\n",
    "\n",
    "inspect_list = tf.train.list_variables(get_checkpoint) \n",
    "print(inspect_list)"
   ]
  },
  {
   "cell_type": "code",
   "execution_count": 4,
   "metadata": {},
   "outputs": [
    {
     "name": "stdout",
     "output_type": "stream",
     "text": [
      "WARNING:tensorflow:The saved meta_graph is possibly from an older release:\n",
      "'model_variables' collection should be of type 'byte_list', but instead is of type 'node_list'.\n",
      "WARNING:tensorflow:Issue encountered when serializing model_variables.\n",
      "Type is unsupported, or the types of the items don't match field type in CollectionDef. Note this is a warning and probably safe to ignore.\n",
      "'Tensor' object has no attribute 'to_proto'\n"
     ]
    }
   ],
   "source": [
    "#TENSORBOARD FROM META\n",
    "import tensorflow.compat.v1 as tf\n",
    "\n",
    "g = tf.Graph()\n",
    "\n",
    "with g.as_default() as g:\n",
    "    tf.train.import_meta_graph(\"C:/Users/aroue/Downloads/Documents/@ML/MODELS/tf-end-to-end/models/semantic_model.meta\")\n",
    "\n",
    "with tf.Session(graph=g) as sess:\n",
    "    file_writer = tf.summary.FileWriter(logdir='C:/Users/aroue/Downloads/Documents/@ML/MODELS/tf-end-to-end/export_dir', graph=g)\n",
    "\n",
    "    \n",
    "    #tensorboard --logdir checkpoint_log_dir/faceboxes/"
   ]
  },
  {
   "cell_type": "code",
   "execution_count": null,
   "metadata": {},
   "outputs": [],
   "source": []
  }
 ],
 "metadata": {
  "kernelspec": {
   "display_name": "Python 3",
   "language": "python",
   "name": "python3"
  },
  "language_info": {
   "codemirror_mode": {
    "name": "ipython",
    "version": 3
   },
   "file_extension": ".py",
   "mimetype": "text/x-python",
   "name": "python",
   "nbconvert_exporter": "python",
   "pygments_lexer": "ipython3",
   "version": "3.8.5"
  }
 },
 "nbformat": 4,
 "nbformat_minor": 4
}
