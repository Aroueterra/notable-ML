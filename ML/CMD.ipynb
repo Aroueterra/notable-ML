{
 "cells": [
  {
   "cell_type": "code",
   "execution_count": null,
   "metadata": {},
   "outputs": [],
   "source": [
    "#DEPRECATED\n",
    "!python ctc_predict-string.py -image Data/segment/TWK-text.png -model Models/semantic_model.meta -vocabulary Data/vocabulary_semantic.txt"
   ]
  },
  {
   "cell_type": "code",
   "execution_count": null,
   "metadata": {},
   "outputs": [],
   "source": [
    "#CONVERTS MODEL VARIABLES TO CONSTANTS\n",
    "!python freeze_model.py --model_folder C:\\Users\\aroue\\Downloads\\Documents\\@ML\\notable-ML\\ML\\models"
   ]
  },
  {
   "cell_type": "code",
   "execution_count": null,
   "metadata": {},
   "outputs": [],
   "source": [
    "#VANILLA LAUNCHER\n",
    "!python ctc_predict.py -image Data/segment/pop1.PNG -model Models/semantic_model.meta -vocabulary Data/vocabulary_semantic.txt"
   ]
  },
  {
   "cell_type": "code",
   "execution_count": null,
   "metadata": {},
   "outputs": [],
   "source": [
    "!python ctc_predict-loop.py -image Data/segment/slice0.PNG -model Models/semantic_model.meta -vocabulary Data/vocabulary_semantic.txt -type raw -seq true"
   ]
  },
  {
   "cell_type": "markdown",
   "metadata": {},
   "source": [
    "#This is the one:"
   ]
  },
  {
   "cell_type": "code",
   "execution_count": 1,
   "metadata": {},
   "outputs": [
    {
     "name": "stdout",
     "output_type": "stream",
     "text": [
      "===============================BINARIZATION==============================\n",
      "==================================SLICE==================================\n",
      "Output of slices: C:\\Users\\aroue\\Downloads\\Documents\\@ML\\notable-ML\\ML\\segmenter\\output\\\n",
      "==================================CROP===================================\n",
      "    ++Image generated in 9.202613115310669\n",
      "original: 2976 x 349\n",
      "cropped: 2658 x 296\n",
      "    ++Image generated in 10.374204397201538\n",
      "original: 2976 x 349\n",
      "cropped: 2660 x 286\n",
      "    ++Image generated in 12.155061721801758\n",
      "original: 2976 x 349\n",
      "cropped: 2658 x 284\n",
      "    ++Image generated in 13.436008930206299\n",
      "original: 2976 x 349\n",
      "cropped: 2658 x 286\n",
      "    ++Image generated in 14.732553482055664\n",
      "original: 2976 x 349\n",
      "cropped: 2658 x 288\n",
      "    ++Image generated in 16.154123067855835\n",
      "original: 2976 x 349\n",
      "cropped: 2660 x 288\n",
      "    ++Image generated in 17.778746128082275\n",
      "original: 2976 x 349\n",
      "cropped: 2660 x 251\n",
      "    ++Image generated in 19.60936975479126\n",
      "original: 2976 x 428\n",
      "cropped: 2660 x 447\n",
      "    ++Image generated in 21.905704498291016\n",
      "original: 2976 x 349\n",
      "cropped: 2658 x 283\n",
      "PROCESS COMPLETED in: 22.124407052993774\n",
      "Slices made? 9\n",
      "Input of slices? C:\\Users\\aroue\\Downloads\\Documents\\@ML\\notable-ML\\ML\\segmenter\\output\\slice0.PNG\n",
      "=================================PREDICT=================================\n",
      "    ++Adding one more song to playlist 33.185492277145386\n",
      "    ++Adding one more song to playlist 35.05936622619629\n",
      "    ++Adding one more song to playlist 35.52800512313843\n",
      "    ++Adding one more song to playlist 35.96541094779968\n",
      "    ++Adding one more song to playlist 36.48091101646423\n",
      "    ++Adding one more song to playlist 36.949554443359375\n",
      "    ++Adding one more song to playlist 37.402568101882935\n",
      "    ++Adding one more song to playlist 37.9024555683136\n",
      "    ++Adding one more song to playlist 38.21487498283386\n",
      "['rest', 'E6', 'rest', 'rest', 'F#4', 'F#4', 'F#4', 'A4', 'A4', 'rest', 'A4', 'B4', 'B4', 'G4', 'B4', 'D5', 'A4', 'A4', 'F#4', 'E4']\n",
      "['D4', 'F#4', 'G4', 'A4', 'G4', 'E4', 'D4', 'rest', 'F#4', 'F#4', 'G4', 'A4', 'A4', 'rest', 'A4', 'B4', 'B4', 'G4', 'B4']\n",
      "['D5', 'A4', 'A4', 'G#4', 'F#4', 'C5', 'A4', 'B4', 'C#5', 'D5', 'C#5', 'D4', 'rest', 'rest', 'A4', 'A4', 'B4', 'E4', 'A4']\n",
      "['B4', 'A4', 'D5', 'F#4', 'B4', 'A4', 'rest', 'A4', 'A4', 'B4', 'E4', 'A4', 'B4', 'A4', 'D5', 'F#4', 'A4', 'rest', 'D5', 'D5', 'C5', 'B4']\n",
      "['C#5', 'rest', 'C#5', 'E5', 'E5', 'B4', 'A#4', 'B4', 'D5', 'D5', 'D5', 'D5', 'rest', 'D5', 'F#5', 'E5', 'E5', 'rest', 'A4']\n",
      "['E5', 'D5', 'C#5', 'B4', 'A4', 'A4', 'A4', 'B4', 'A4', 'A4', 'A4', 'A4', 'rest', 'D5', 'E5', 'E5', 'E5', 'rest', 'A4']\n",
      "['A3', 'G#3', 'rest', 'G#3', 'rest', 'G#3', 'F#3', 'rest', 'rest', 'A2', 'A3', 'B3', 'G#3']\n",
      "['rest', 'rest', 'Bb3', 'C4', 'rest', 'F3', 'rest']\n",
      "['D5', 'C#5', 'D5', 'E5', 'D5', 'rest', 'E5', 'D5', 'A4', 'D5', 'E5', 'D5', 'D5', 'rest', 'rest']\n",
      "Generated full song\n",
      "FULL PROCESS COMPLETED in: 39.06634879112244\n"
     ]
    }
   ],
   "source": [
    "!python ctc_predict-loop.py -sheet \"C:/Users/aroue/Downloads/Documents/@ML/Sheet Music/[easy/holynight.png\" -image segmenter/output/slice0.PNG -model Models/semantic_model.meta -vocabulary Data/vocabulary_semantic.txt -type raw -seq true"
   ]
  },
  {
   "cell_type": "code",
   "execution_count": 34,
   "metadata": {},
   "outputs": [
    {
     "name": "stdout",
     "output_type": "stream",
     "text": [
      "['F#6', 'A6', 'A#6', 'A2', 'D4', 'D6', 'A#6']\n",
      "['F#5', 'A5', 'A#5', 'A2', 'D4', 'D5', 'A#5']\n"
     ]
    }
   ],
   "source": [
    "#TESTING HIGH FREQUENCY DOWNGRADE\n",
    "#lines = loadtxt(\"filename.txt\", comments=\"#\", delimiter=\",\", unpack=False)\n",
    "list = ['F#6','A6','A#6','A2','D4','D6','A#6']\n",
    "nlist = ['F#3','A1','A4','A1','D4','D4','A3']\n",
    "no_freq = [\"A#6\",\"A6\",\"B#6\",\"B6\",\"C#6\",\"C6\",\"D#6\",\"D6\",\"E#6\",\"E6\",\"F#6\",\"F6\",\"G#6\",\"G6\"]\n",
    "matching = [s for s in list if any(xs in s for xs in no_freq)]\n",
    "if(matching):\n",
    "    print(list)\n",
    "    for n, item in enumerate(list):\n",
    "        if item in matching:\n",
    "            list[n] = item[:-1] + \"5\"\n",
    "    print(list)\n",
    "else:\n",
    "    print(\"nope\")"
   ]
  },
  {
   "cell_type": "code",
   "execution_count": null,
   "metadata": {},
   "outputs": [],
   "source": []
  }
 ],
 "metadata": {
  "kernelspec": {
   "display_name": "Python 3",
   "language": "python",
   "name": "python3"
  },
  "language_info": {
   "codemirror_mode": {
    "name": "ipython",
    "version": 3
   },
   "file_extension": ".py",
   "mimetype": "text/x-python",
   "name": "python",
   "nbconvert_exporter": "python",
   "pygments_lexer": "ipython3",
   "version": "3.8.5"
  }
 },
 "nbformat": 4,
 "nbformat_minor": 4
}
