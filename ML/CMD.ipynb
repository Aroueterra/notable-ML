{
 "cells": [
  {
   "cell_type": "code",
   "execution_count": null,
   "metadata": {},
   "outputs": [],
   "source": [
    "!python ctc_predict-string.py -image Data/segment/TWK-text.png -model Models/semantic_model.meta -vocabulary Data/vocabulary_semantic.txt"
   ]
  },
  {
   "cell_type": "code",
   "execution_count": null,
   "metadata": {},
   "outputs": [],
   "source": [
    "!python freeze_model.py --model_folder C:\\Users\\aroue\\Downloads\\Documents\\@ML\\notable-ML\\ML\\models"
   ]
  },
  {
   "cell_type": "code",
   "execution_count": null,
   "metadata": {},
   "outputs": [],
   "source": [
    "!python ctc_predict.py -image Data/segment/pop1.PNG -model Models/semantic_model.meta -vocabulary Data/vocabulary_semantic.txt"
   ]
  },
  {
   "cell_type": "code",
   "execution_count": 40,
   "metadata": {},
   "outputs": [
    {
     "name": "stdout",
     "output_type": "stream",
     "text": [
      "absolute initial C:\\Users\\aroue\\Downloads\\Documents\\@ML\\notable-ML\\ML"
     ]
    },
    {
     "name": "stderr",
     "output_type": "stream",
     "text": [
      "2021-02-04 18:01:59.204653: W tensorflow/stream_executor/platform/default/dso_loader.cc:60] Could not load dynamic library 'cudart64_110.dll'; dlerror: cudart64_110.dll not found\n",
      "2021-02-04 18:01:59.204947: I tensorflow/stream_executor/cuda/cudart_stub.cc:29] Ignore above cudart dlerror if you do not have a GPU set up on your machine.\n",
      "2021-02-04 18:02:16.079692: I tensorflow/core/platform/cpu_feature_guard.cc:142] This TensorFlow binary is optimized with oneAPI Deep Neural Network Library (oneDNN) to use the following CPU instructions in performance-critical operations:  AVX2\n",
      "To enable them in other operations, rebuild TensorFlow with the appropriate compiler flags.\n",
      "2021-02-04 18:02:16.082274: W tensorflow/stream_executor/platform/default/dso_loader.cc:60] Could not load dynamic library 'nvcuda.dll'; dlerror: nvcuda.dll not found\n",
      "2021-02-04 18:02:16.082608: W tensorflow/stream_executor/cuda/cuda_driver.cc:326] failed call to cuInit: UNKNOWN ERROR (303)\n",
      "2021-02-04 18:02:16.086214: I tensorflow/stream_executor/cuda/cuda_diagnostics.cc:169] retrieving CUDA diagnostic information for host: AROUETERRA\n",
      "2021-02-04 18:02:16.086555: I tensorflow/stream_executor/cuda/cuda_diagnostics.cc:176] hostname: AROUETERRA\n",
      "2021-02-04 18:02:16.086741: I tensorflow/compiler/jit/xla_gpu_device.cc:99] Not creating XLA devices, tf_xla_enable_xla_devices not set\n",
      "2021-02-04 18:02:18.038485: I tensorflow/compiler/mlir/mlir_graph_optimization_pass.cc:196] None of the MLIR optimization passes are enabled (registered 0 passes)\n"
     ]
    },
    {
     "name": "stdout",
     "output_type": "stream",
     "text": [
      "\n",
      "File name slice0\n",
      "File ext PNG\n",
      "C:\\Users\\aroue\\Downloads\\Documents\\@ML\\notable-ML\\ML\\Data\\segment\\slice0.PNG\n",
      "True\n",
      "added one song to playlist\n",
      "added one song to playlist\n",
      "created wav file\n",
      "created wav file\n"
     ]
    }
   ],
   "source": [
    "!python ctc_predict-loop.py -image Data/segment/slice0.PNG -model Models/semantic_model.meta -vocabulary Data/vocabulary_semantic.txt"
   ]
  },
  {
   "cell_type": "code",
   "execution_count": null,
   "metadata": {},
   "outputs": [],
   "source": []
  },
  {
   "cell_type": "code",
   "execution_count": null,
   "metadata": {},
   "outputs": [],
   "source": []
  }
 ],
 "metadata": {
  "kernelspec": {
   "display_name": "Python 3",
   "language": "python",
   "name": "python3"
  },
  "language_info": {
   "codemirror_mode": {
    "name": "ipython",
    "version": 3
   },
   "file_extension": ".py",
   "mimetype": "text/x-python",
   "name": "python",
   "nbconvert_exporter": "python",
   "pygments_lexer": "ipython3",
   "version": "3.8.5"
  }
 },
 "nbformat": 4,
 "nbformat_minor": 4
}
