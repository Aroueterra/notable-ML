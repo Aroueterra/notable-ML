{
 "cells": [
  {
   "cell_type": "code",
   "execution_count": null,
   "metadata": {},
   "outputs": [],
   "source": [
    "#import tensorflow as tf\n",
    "#print(tf.version.VERSION)\n",
    "#print(\"test\")\n",
    "#print(tf.test.is_built_with_cuda())\n",
    "#import tensorflow as tf\n",
    "#tf.version.VERSION\n",
    "#import cv2\n",
    "#cv2.__version__\n",
    "#from vocabulary import *\n",
    "#print(DUR[0])"
   ]
  },
  {
   "cell_type": "code",
   "execution_count": null,
   "metadata": {},
   "outputs": [],
   "source": [
    "#SAVEDMODEL from checkpoint\n",
    "import os\n",
    "import tensorflow.compat.v1 as tf\n",
    "tf.compat.v1.disable_eager_execution()\n",
    "export_dir = 'C:/Users/aroue/Downloads/Documents/@ML/MODELS/tf-end-to-end/export_dir' \n",
    "#trained_checkpoint_prefix = 'Models/semantic_model' C:\\Users\\aroue\\Downloads\\Documents\\@ML\\MODELS\\tf-end-to-end\\Models\n",
    "trained_checkpoint_prefix = 'C:/Users/aroue/Downloads/Documents/@ML/MODELS/tf-end-to-end/Models/semantic_model'\n",
    "tf.reset_default_graph()\n",
    "graph = tf.Graph()\n",
    "loader = tf.train.import_meta_graph(trained_checkpoint_prefix + \".meta\" )\n",
    "sess = tf.Session()\n",
    "loader.restore(sess,trained_checkpoint_prefix)\n",
    "builder = tf.saved_model.builder.SavedModelBuilder(export_dir)\n",
    "#builder.add_meta_graph_and_variables(sess, [tf.saved_model.tag_constants.TRAINING, tf.saved_model.tag_constants.SERVING], strip_default_attrs=True)\n",
    "builder.add_meta_graph_and_variables(sess,[tf.saved_model.tag_constants.SERVING], signature_def_map={tf.saved_model.signature_constants.DEFAULT_SERVING_SIGNATURE_DEF_KEY:prediction_signature},)\n",
    "builder.save()"
   ]
  },
  {
   "cell_type": "code",
   "execution_count": null,
   "metadata": {},
   "outputs": [],
   "source": [
    "#FROZEN attempt\n",
    "#import os\n",
    "import tensorflow.compat.v1 as tf\n",
    "#tf.compat.v1.disable_eager_execution()\n",
    "#export_dir = 'C:/Users/aroue/Downloads/Documents/@ML/MODELS/tf-end-to-end/export_dir' \n",
    "#trained_checkpoint_prefix = 'Models/semantic_model' C:\\Users\\aroue\\Downloads\\Documents\\@ML\\MODELS\\tf-end-to-end\\Models\n",
    "#trained_checkpoint_prefix = 'C:/Users/aroue/Downloads/Documents/@ML/MODELS/tf-end-to-end/Models/semantic_model'\n",
    "#tf.reset_default_graph()\n",
    "#graph = tf.Graph()\n",
    "#loader = tf.train.import_meta_graph(trained_checkpoint_prefix + \".meta\" )\n",
    "#sess = tf.Session()\n",
    "#gd = sess.graph.as_graph_def()\n",
    "#for node in gd.node:\n",
    "#    print(node.name)\n",
    "    \n",
    "#import tensorflow as tf\n",
    "gf = tf.GraphDef()   \n",
    "#m_file = open('C:/Users/aroue/Downloads/Documents/@ML/MODELS/tf-end-to-end/export_dir/saved_model.pb','rb')\n",
    "config = tf.ConfigProto(allow_soft_placement=True)\n",
    "sess = tf.Session(config=config)\n",
    "saver = tf.train.import_meta_graph('C:/Users/aroue/Downloads/Documents/@ML/MODELS/tf-end-to-end/models/semantic_model.meta')\n",
    "#latest_ckpt = tf.train.latest_checkpoint(model_dir)\n",
    "saver.restore(sess, \"C:/Users/aroue/Downloads/Documents/@ML/MODELS/tf-end-to-end/models/semantic_model.meta\")\n",
    "\n",
    "import tensorflow as tf\n",
    "gf = tf.GraphDef()\n",
    "gf.ParseFromString(open('C:/Users/aroue/Downloads/Documents/@ML/MODELS/tf-end-to-end/export_dir/saved_model.pb','rb').read()) \n",
    "[n.name + '=>' +  n.op for n in gf.node if n.op in ( 'Softmax','Placeholder')]"
   ]
  },
  {
   "cell_type": "code",
   "execution_count": null,
   "metadata": {},
   "outputs": [],
   "source": [
    "import os\n",
    "import tensorflow.compat.v1 as tf\n",
    "tf.compat.v1.disable_eager_execution()\n",
    "trained_checkpoint_prefix = 'C:/Users/aroue/Downloads/Documents/@ML/MODELS/tf-end-to-end/Models/semantic_model'\n",
    "tf.reset_default_graph()\n",
    "graph = tf.Graph()\n",
    "loader = tf.train.import_meta_graph(trained_checkpoint_prefix + \".meta\" )\n",
    "sess = tf.Session()\n",
    "tf.summary.FileWriter(\"C:/Users/aroue/Downloads/Documents/@ML/MODELS/tf-end-to-end/tensorboard\", sess.graph)"
   ]
  },
  {
   "cell_type": "code",
   "execution_count": null,
   "metadata": {},
   "outputs": [],
   "source": [
    "import tensorflow as tf\n",
    "\n",
    "# Convert the model\n",
    "converter = tf.lite.TFLiteConverter.from_saved_model(r\"C:\\Users\\aroue\\Downloads\\Documents\\@ML\\MODELS\\tf-end-to-end\\export_dir\") # path to the SavedModel directory\n",
    "tflite_model = converter.convert()\n",
    "\n",
    "# Save the model.\n",
    "with open('model.tflite', 'wb') as f:\n",
    "  f.write(tflite_model)"
   ]
  },
  {
   "cell_type": "code",
   "execution_count": null,
   "metadata": {},
   "outputs": [],
   "source": [
    "import tensorflow as tf\n",
    "gf = tf.GraphDef()   \n",
    "m_file = open('frozen_inference_graph.pb','rb')\n",
    "gf.ParseFromString(m_file.read())\n",
    "\n",
    "with open('somefile.txt', 'a') as the_file:\n",
    "    for n in gf.node:\n",
    "        the_file.write(n.name+'\\n')\n",
    "\n",
    "file = open('somefile.txt','r')\n",
    "data = file.readlines()\n",
    "print (\"\\noutput name = \")\n",
    "print (data[len(data)-1])\n",
    "\n",
    "print (\"Input name = \")\n",
    "file.seek ( 0 )\n",
    "print (file.readline())"
   ]
  },
  {
   "cell_type": "code",
   "execution_count": null,
   "metadata": {},
   "outputs": [],
   "source": [
    "import tensorflow as tf\n",
    "\n",
    "converter = tf.lite.TFLiteConverter.from_saved_model(r'C:/Users/aroue/Downloads/Documents/@ML/MODELS/tf-end-to-end/export_dir/')\n",
    "tflite_model = converter.convert()\n",
    "open(\"converted_model.tflite\", \"wb\").write(tflite_model)"
   ]
  },
  {
   "cell_type": "code",
   "execution_count": 34,
   "metadata": {},
   "outputs": [
    {
     "name": "stdout",
     "output_type": "stream",
     "text": [
      "WARNING:tensorflow:The saved meta_graph is possibly from an older release:\n",
      "'model_variables' collection should be of type 'byte_list', but instead is of type 'node_list'.\n"
     ]
    },
    {
     "name": "stderr",
     "output_type": "stream",
     "text": [
      "WARNING:tensorflow:The saved meta_graph is possibly from an older release:\n",
      "'model_variables' collection should be of type 'byte_list', but instead is of type 'node_list'.\n"
     ]
    },
    {
     "data": {
      "text/plain": [
       "'C:/Users/aroue/Downloads/Documents/@ML/MODELS/tf-end-to-end/Models/p.pbtxt'"
      ]
     },
     "execution_count": 34,
     "metadata": {},
     "output_type": "execute_result"
    }
   ],
   "source": [
    "    import tensorflow.compat.v1 as tf\n",
    "    # Restore the graph\n",
    "    _ = tf.train.import_meta_graph(\"C:/Users/aroue/Downloads/Documents/@ML/MODELS/tf-end-to-end/Models/semantic_model.meta\")\n",
    "    sess = tf.Session()\n",
    "    # save graph file\n",
    "    g = sess.graph\n",
    "    gdef = g.as_graph_def()\n",
    "    tf.train.write_graph(gdef, \"C:/Users/aroue/Downloads/Documents/@ML/MODELS/tf-end-to-end/Models/\", \"p.pbtxt\", True)"
   ]
  },
  {
   "cell_type": "code",
   "execution_count": null,
   "metadata": {},
   "outputs": [],
   "source": [
    "import tensorflow as tf\n",
    "# creating the variables\n",
    "w1 = tf.Variable([1,2], name='w1')\n",
    "w2 = tf.Variable([3,4], name='w2')\n",
    "# saver object to save the variables\n",
    "saver = tf.train.Saver()\n",
    "# session is run\n",
    "sess = tf.Session()\n",
    "#initialize the variables\n",
    "sess.run(tf.global_variables_initializer())\n",
    "# save the variables\n",
    "saver.save(sess, './simple_model')\n",
    "# saving the graph using tf.io.write_graph\n",
    "tf.io.write_graph(sess.graph, './graph', 'graph.pbtxt')"
   ]
  }
 ],
 "metadata": {
  "kernelspec": {
   "display_name": "Python 3",
   "language": "python",
   "name": "python3"
  },
  "language_info": {
   "codemirror_mode": {
    "name": "ipython",
    "version": 3
   },
   "file_extension": ".py",
   "mimetype": "text/x-python",
   "name": "python",
   "nbconvert_exporter": "python",
   "pygments_lexer": "ipython3",
   "version": "3.8.5"
  }
 },
 "nbformat": 4,
 "nbformat_minor": 4
}
